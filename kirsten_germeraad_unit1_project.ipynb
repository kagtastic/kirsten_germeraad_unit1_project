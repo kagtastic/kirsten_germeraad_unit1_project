{
 "cells": [
  {
   "cell_type": "markdown",
   "metadata": {},
   "source": [
    "# <img src=\"http://imgur.com/1ZcRyrc.png\" style=\"float: left; margin: 20px; height: 55px\">\n",
    "\n",
    "# Project 1: Python Coding Exercises\n",
    "\n",
    "_Authors: Joseph Nelson (DC)    Project Completed by: Kirsten Germeraad _\n",
    "\n",
    "---"
   ]
  },
  {
   "cell_type": "markdown",
   "metadata": {},
   "source": [
    "The following code challenges are drawn from common exercises used in technical interviews.\n",
    "\n",
    "Please note that there may be several ways to approach each challenge. If you get stuck, try mapping out your approach in pseudocode first. Finally, while solutions to problems like these may be found online, remember that if you copy/paste code that you can't explain, you'll be missing out on the point of the project. The only way to truly learn a new skill is through practice, trial, and error - we can only help you improve by understanding where you are having trouble."
   ]
  },
  {
   "cell_type": "markdown",
   "metadata": {},
   "source": [
    "### Challenge 1: Largest Palindrome\n",
    "A palindromic number reads the same both ways. For example, 1234321 is a palindrome. The largest palindrome made from the product of two two-digit numbers is 9009 = 91 × 99. Find the largest palindrome made from the product of two three-digit numbers. Afterward, write a brief explanation walking through your code's logic in markdown."
   ]
  },
  {
   "cell_type": "code",
   "execution_count": 8,
   "metadata": {
    "collapsed": false
   },
   "outputs": [
    {
     "name": "stdout",
     "output_type": "stream",
     "text": [
      "The largest palindrome made from the product of two three-digit numbers is 906609.\n",
      "It is the product of 993 and 913\n"
     ]
    }
   ],
   "source": [
    "\n",
    "#This function sees if a number is a palindrome and returns value of True if it is\n",
    "#To test if a number is a palindrome it converts the number to a string and reverses the string and sees is the two match\n",
    "def is_palindrome(test_num):\n",
    "    test_num = str(test_num)\n",
    "    reverse_num = test_num[::-1]\n",
    "    if test_num == reverse_num:\n",
    "        return True\n",
    "\n",
    "#This for loop starts at 1000 and works backwards through three digit numbers until a palindrome is created\n",
    "#I made an educated guess that both three digit numbers would be above 900\n",
    "#I ended up needing the second if statement to break the first for loop and not display all results that gave palindromes\n",
    "for x in range(1000,900,-1):\n",
    "    for y in range(1000,900,-1):\n",
    "        product_xy = x * y\n",
    "        if is_palindrome(product_xy) == True:\n",
    "            print('The largest palindrome made from the product of two three-digit numbers is ' + str(product_xy) + \".\")\n",
    "            print('It is the product of ' + str(x) + ' and ' + str(y))\n",
    "            break\n",
    "    if is_palindrome(product_xy) == True:\n",
    "        break\n",
    "            \n",
    "          \n",
    "     "
   ]
  },
  {
   "cell_type": "markdown",
   "metadata": {},
   "source": [
    "Please see comments in the code above describing methods used and any assumptions."
   ]
  },
  {
   "cell_type": "markdown",
   "metadata": {},
   "source": [
    "\n",
    "### Challenge 2: Summation of Primes\n",
    "The sum of the primes below 10 is 2 + 3 + 5 + 7 = 17. Find the sum of all the primes below 2,000. Afterward, write a brief explanation walking through your code's logic in markdown."
   ]
  },
  {
   "cell_type": "code",
   "execution_count": 7,
   "metadata": {
    "collapsed": false
   },
   "outputs": [
    {
     "name": "stdout",
     "output_type": "stream",
     "text": [
      "The sum of all prime numbers below 2,000 is 277050.\n"
     ]
    }
   ],
   "source": [
    "#importing math library so we can use the sqrt() method\n",
    "import math\n",
    "\n",
    "#define a list that will hold all the prime numbers that we find\n",
    "prime_numbers = []\n",
    "\n",
    "#find all prime numhers below 2,000 and append them to the prime_numbers list\n",
    "#start at 2 as it is the lowest prime number\n",
    "#one way to prove a number is prime is to take its squareroot and then divide it by all known prime numbers below it\n",
    "#most of the squareroots will result in floats, so we round to the lower integer before dividing\n",
    "#if a number is prime is_prime is set as True, and if not is_prime is set as False\n",
    "for num in range(2, 2000):\n",
    "  is_prime = True\n",
    "  for num2 in range(2, int(math.sqrt(num)+1)):\n",
    "    if num % num2 == 0:\n",
    "      is_prime = False\n",
    "  if is_prime:\n",
    "    prime_numbers.append(num)\n",
    "    \n",
    "#print the sum of the prime_numbers list that now has all of the prime numbers appended to it\n",
    "print('The sum of all prime numbers below 2,000 is ' + str(sum(prime_numbers)) + '.')"
   ]
  },
  {
   "cell_type": "markdown",
   "metadata": {},
   "source": [
    "Please see comments in the code above describing methods used and any assumptions."
   ]
  },
  {
   "cell_type": "markdown",
   "metadata": {},
   "source": [
    "### Challenge 3: Multiples of 3 and 5\n",
    "If we list all of the natural numbers below 10 that are multiples of 3 or 5, we get 3, 5, 6, and 9. The sum of these multiples is 23. Find the sum of all the multiples of 3 or 5 below 1,000. Afterward, write a brief explanation walking through your code's logic in markdown."
   ]
  },
  {
   "cell_type": "code",
   "execution_count": 6,
   "metadata": {
    "collapsed": false
   },
   "outputs": [
    {
     "name": "stdout",
     "output_type": "stream",
     "text": [
      "The sum of all the multiples of 3 or 5 below 1,000 is 233168!\n"
     ]
    }
   ],
   "source": [
    "#define the empty multiples list\n",
    "multiples = []\n",
    "\n",
    "#find all the multiples of 3 or 5 below 1,000 by checking to see if the remainder from the divison is zero\n",
    "#append values to the multiples list accordingly\n",
    "for i in range(1, 1000):\n",
    "    if i % 3 == 0:\n",
    "        multiples.append(i)\n",
    "    elif i % 5 == 0:\n",
    "        multiples.append(i)\n",
    "\n",
    "#print the sum of the multiples list that now has all of the multiples of 3 or 5 appended to it\n",
    "print('The sum of all the multiples of 3 or 5 below 1,000 is ' + str(sum(multiples)) + '!')"
   ]
  },
  {
   "cell_type": "markdown",
   "metadata": {},
   "source": [
    "Please see comments in the code above describing methods used and any assumptions."
   ]
  },
  {
   "cell_type": "markdown",
   "metadata": {},
   "source": [
    "### Challenge 4: String Compressor\n",
    "Implement a method to perform basic string compression using the counts of repeated characters. (This is called run-length encoding.) For example, the string \"aabcccccaaa\" would become a2b1c5a3. If the “compressed” string would not become smaller than the original string, your method should return the original string. You can assume the string has only uppercase and lowercase letters (a–z). Specify whether your solution is case sensitive or case insensitive and what you would need to change to make it the other. Afterward, write a brief explanation walking through your code's logic in markdown."
   ]
  },
  {
   "cell_type": "code",
   "execution_count": 9,
   "metadata": {
    "collapsed": false
   },
   "outputs": [
    {
     "name": "stdout",
     "output_type": "stream",
     "text": [
      "a2g5k5t3h1\n"
     ]
    }
   ],
   "source": [
    "#input string for compression as the original_string\n",
    "original_string = 'aagggggkkkkkttth'\n",
    "\n",
    "#makes the entire string lowercase so the function is case insensitive\n",
    "#remove this step and define the string above as string to have this solution be case sensitive\n",
    "string = original_string.lower()\n",
    "\n",
    "#compresses the string according to basic string compression rules and create a compressed_str value\n",
    "#the for loop cycles through each character in the string\n",
    "#the first if statement sees if the character exists only once and appends this result to compressed_str\n",
    "#else the statement starts comparing the caracter to the one before it and counting how many times it exists\n",
    "#when finished counting, it appends the result to compressed_str and resets the count to one\n",
    "compressed_str = ''\n",
    "count = 1\n",
    "for char in range(1, len(string) + 1):\n",
    "    if char == len(string):\n",
    "        compressed_str += str(string[char - 1] + str(count))\n",
    "        break\n",
    "    else:\n",
    "        if string[char - 1] == string[char]:\n",
    "            count += 1\n",
    "        else:\n",
    "            compressed_str += str(string[char - 1] + str(count))\n",
    "            count = 1 \n",
    "\n",
    "#determines which string (original_string or compressed_str) is longer and prints the result\n",
    "if len(original_string) >= len(compressed_str):\n",
    "    print(compressed_str)\n",
    "else:\n",
    "    print(original_string)\n"
   ]
  },
  {
   "cell_type": "markdown",
   "metadata": {},
   "source": [
    "Please see comments in the code above describing methods used and any assumptions."
   ]
  },
  {
   "cell_type": "markdown",
   "metadata": {},
   "source": [
    "### Challenge 5: FizzBuzz\n",
    "\n",
    "Write a program that prints all of the numbers from 1 to 100. For multiples of 3, instead of the number, print \"Fizz;\" for multiples of 5, print \"Buzz.\" For numbers that are multiples of both 3 and 5, print \"FizzBuzz.\" Afterward, write a brief explanation walking through your code's logic in markdown."
   ]
  },
  {
   "cell_type": "code",
   "execution_count": 10,
   "metadata": {
    "collapsed": false
   },
   "outputs": [
    {
     "name": "stdout",
     "output_type": "stream",
     "text": [
      "1\n",
      "2\n",
      "Fizz\n",
      "4\n",
      "Buzz\n",
      "Fizz\n",
      "7\n",
      "8\n",
      "Fizz\n",
      "Buzz\n",
      "11\n",
      "Fizz\n",
      "13\n",
      "14\n",
      "FizzBuzz\n",
      "16\n",
      "17\n",
      "Fizz\n",
      "19\n",
      "Buzz\n",
      "Fizz\n",
      "22\n",
      "23\n",
      "Fizz\n",
      "Buzz\n",
      "26\n",
      "Fizz\n",
      "28\n",
      "29\n",
      "FizzBuzz\n",
      "31\n",
      "32\n",
      "Fizz\n",
      "34\n",
      "Buzz\n",
      "Fizz\n",
      "37\n",
      "38\n",
      "Fizz\n",
      "Buzz\n",
      "41\n",
      "Fizz\n",
      "43\n",
      "44\n",
      "FizzBuzz\n",
      "46\n",
      "47\n",
      "Fizz\n",
      "49\n",
      "Buzz\n",
      "Fizz\n",
      "52\n",
      "53\n",
      "Fizz\n",
      "Buzz\n",
      "56\n",
      "Fizz\n",
      "58\n",
      "59\n",
      "FizzBuzz\n",
      "61\n",
      "62\n",
      "Fizz\n",
      "64\n",
      "Buzz\n",
      "Fizz\n",
      "67\n",
      "68\n",
      "Fizz\n",
      "Buzz\n",
      "71\n",
      "Fizz\n",
      "73\n",
      "74\n",
      "FizzBuzz\n",
      "76\n",
      "77\n",
      "Fizz\n",
      "79\n",
      "Buzz\n",
      "Fizz\n",
      "82\n",
      "83\n",
      "Fizz\n",
      "Buzz\n",
      "86\n",
      "Fizz\n",
      "88\n",
      "89\n",
      "FizzBuzz\n",
      "91\n",
      "92\n",
      "Fizz\n",
      "94\n",
      "Buzz\n",
      "Fizz\n",
      "97\n",
      "98\n",
      "Fizz\n",
      "Buzz\n"
     ]
    }
   ],
   "source": [
    "\n",
    "#sets range to get numbers from 1 to 100\n",
    "#the if statement checks to see if the number is divisible by 3 and 5, and if so prints FizzBuzz\n",
    "#the first elif statement checks to see if the number is divisible by 3, and if so prints Fizz\n",
    "#the second elif statement check to see if the number is divisible by 5, and if so prints Buzz\n",
    "#the else statement will just print the number if none of the above statements are True\n",
    "\n",
    "for a_number in range(1,101):\n",
    "    if (a_number % 3 ==0) & (a_number % 5 == 0):\n",
    "        print('FizzBuzz')\n",
    "    elif a_number % 3 == 0:\n",
    "        print('Fizz')\n",
    "    elif a_number % 5 == 0:\n",
    "        print('Buzz')\n",
    "    else:\n",
    "        print(a_number)\n"
   ]
  },
  {
   "cell_type": "markdown",
   "metadata": {},
   "source": [
    "Please see comments in the code above describing methods used and any assumptions."
   ]
  },
  {
   "cell_type": "code",
   "execution_count": null,
   "metadata": {
    "collapsed": true
   },
   "outputs": [],
   "source": []
  }
 ],
 "metadata": {
  "anaconda-cloud": {},
  "kernelspec": {
   "display_name": "Python [default]",
   "language": "python",
   "name": "python3"
  },
  "language_info": {
   "codemirror_mode": {
    "name": "ipython",
    "version": 3
   },
   "file_extension": ".py",
   "mimetype": "text/x-python",
   "name": "python",
   "nbconvert_exporter": "python",
   "pygments_lexer": "ipython3",
   "version": "3.5.2"
  }
 },
 "nbformat": 4,
 "nbformat_minor": 2
}
